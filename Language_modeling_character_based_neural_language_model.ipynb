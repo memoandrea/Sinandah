{
  "nbformat": 4,
  "nbformat_minor": 0,
  "metadata": {
    "colab": {
      "provenance": [],
      "authorship_tag": "ABX9TyPP3F39+PRba0prquz+cb5l",
      "include_colab_link": true
    },
    "kernelspec": {
      "name": "python3",
      "display_name": "Python 3"
    },
    "language_info": {
      "name": "python"
    }
  },
  "cells": [
    {
      "cell_type": "markdown",
      "metadata": {
        "id": "view-in-github",
        "colab_type": "text"
      },
      "source": [
        "<a href=\"https://colab.research.google.com/github/memoandrea/Sinandah/blob/main/Language_modeling_character_based_neural_language_model.ipynb\" target=\"_parent\"><img src=\"https://colab.research.google.com/assets/colab-badge.svg\" alt=\"Open In Colab\"/></a>"
      ]
    },
    {
      "cell_type": "code",
      "source": [
        "#import necessary libraries\n",
        "\n",
        "import tensorflow as tf\n",
        "import numpy as np\n",
        "import pickle\n",
        "from pickle import load\n",
        "from pickle import dump\n",
        "from numpy import array\n",
        "from keras.models import load_model\n",
        "from keras.utils import plot_model\n",
        "from keras.utils import to_categorical\n",
        "from keras.preprocessing.sequence import pad_sequences\n",
        "from tensorflow.keras import Sequential\n",
        "from tensorflow.keras.layers import LSTM\n",
        "from tensorflow.keras.layers import Dense"
      ],
      "metadata": {
        "id": "b_ySfY7AI6Wm"
      },
      "execution_count": 62,
      "outputs": []
    },
    {
      "cell_type": "code",
      "execution_count": 63,
      "metadata": {
        "id": "ViB9JnV-HuER"
      },
      "outputs": [],
      "source": [
        "#Data preparation\n",
        "\n",
        "#load text into memory\n",
        "#function to load text into memory\n",
        "\n",
        "def load_doc(filename):\n",
        "\n",
        "  #open the file as read only\n",
        "\n",
        "  file = open(filename, 'r')\n",
        "\n",
        "  #read all text\n",
        "\n",
        "  text = file.read()\n",
        "\n",
        "  #close the file\n",
        "\n",
        "  file.close()\n",
        "  return text"
      ]
    },
    {
      "cell_type": "code",
      "source": [
        "#call the function with the filename\n",
        "\n",
        "#load text\n",
        "raw_text = load_doc('Sing.txt')\n",
        "print(raw_text)"
      ],
      "metadata": {
        "colab": {
          "base_uri": "https://localhost:8080/"
        },
        "id": "TIdelDB0K8r1",
        "outputId": "d9f6ff6a-6c67-4786-f8d0-3e889bbe4d81"
      },
      "execution_count": 64,
      "outputs": [
        {
          "output_type": "stream",
          "name": "stdout",
          "text": [
            "Sing a song of sixpence,\n",
            "A pocket full of rye.\n",
            "Four and twenty blackbirds,\n",
            "Baked in a pie.\n",
            "When the pie was opened\n",
            "The birds began to sing;\n",
            "Wasn't that a dainty dish,\n",
            "To set before the king.\n",
            "The king was in his counting house,\n",
            "Counting out his money;\n",
            "The queen was in the parlour,\n",
            "Eating bread and honey.\n",
            "The maid was in the garden,\n",
            "Hanging out the clothes,\n",
            "When down came a blackbird\n",
            "And pecked off her nose.\n",
            "\n",
            "\n"
          ]
        }
      ]
    },
    {
      "cell_type": "code",
      "source": [
        "#TEXT CLEANING\n",
        "\"\"\"strip all the new-line characters so that we have one long\n",
        "sequence of characters separated only by the whitespace\"\"\"\n",
        "\n",
        "tokens = raw_text.split()\n",
        "raw_text = ' '.join(tokens)"
      ],
      "metadata": {
        "id": "E-tQH-TMLbv1"
      },
      "execution_count": 65,
      "outputs": []
    },
    {
      "cell_type": "code",
      "source": [
        "#create sequences\n",
        "\"\"\"create input and output sequences used to train the model.\n",
        "each input sequence will be 10 characters long with one output\n",
        "character, making it 11 characters long\n",
        "Organize into sequences of characters.\"\"\"\n",
        "\n",
        "length = 10\n",
        "sequences = list()\n",
        "for i in range(length, len(raw_text)):\n",
        "\n",
        "  #select sequence of tokens\n",
        "\n",
        "  seq = raw_text[i - length :i + 1]\n",
        "\n",
        "  #store\n",
        "\n",
        "  sequences.append(seq)\n",
        "print('Total Sequences: %d' %len(sequences))"
      ],
      "metadata": {
        "colab": {
          "base_uri": "https://localhost:8080/"
        },
        "id": "jjfPnYL9MB5z",
        "outputId": "ae5342cc-c340-48ca-ec61-71942f5c228a"
      },
      "execution_count": 66,
      "outputs": [
        {
          "output_type": "stream",
          "name": "stdout",
          "text": [
            "Total Sequences: 399\n"
          ]
        }
      ]
    },
    {
      "cell_type": "code",
      "source": [
        "#save sequences\n",
        "#save tokens to file, one dialog per line\n",
        "#function\n",
        "\n",
        "def save_doc(lines, filename):\n",
        "  data = '\\n'.join(lines)\n",
        "  file = open(filename, 'w')\n",
        "  file.write(data)\n",
        "  file.close()"
      ],
      "metadata": {
        "id": "UuuY6LU8RLqC"
      },
      "execution_count": 67,
      "outputs": []
    },
    {
      "cell_type": "code",
      "source": [
        "#call this function and save the prepared sequences\n",
        "\n",
        "#save sequences to file\n",
        "\n",
        "out_filename = 'char_sequences.txt'\n",
        "save_doc(sequences, out_filename)"
      ],
      "metadata": {
        "id": "QhJJAn1rR6Ae"
      },
      "execution_count": 68,
      "outputs": []
    },
    {
      "cell_type": "code",
      "source": [
        "#TRAIN THE LANGUAGE MODEL\n",
        "\"\"\" the model will read encoded characters and predict the\n",
        "next character in the sequence.\n",
        "a LSTM-RNN hidden layer will be used to learn the context from\n",
        "the input sequence in order to make the predictions\"\"\"\n",
        "\n",
        "\"\"\"load the prepared character sequence data. once loaded, split\n",
        "the text by new line to give a list of sequences ready to be encoded.\"\"\"\n",
        "\n",
        "#load text into memory\n",
        "#function to load text into memory\n",
        "\n",
        "def load_doc(filename):\n",
        "\n",
        "  #open the file as read only\n",
        "\n",
        "  file = open(filename, 'r')\n",
        "\n",
        "  #read all text\n",
        "\n",
        "  text = file.read()\n",
        "\n",
        "  #close the file\n",
        "\n",
        "  file.close()\n",
        "  return text"
      ],
      "metadata": {
        "id": "O5G6Vil_T8vu"
      },
      "execution_count": 69,
      "outputs": []
    },
    {
      "cell_type": "code",
      "source": [
        "#load\n",
        "\n",
        "in_filename = 'char_sequences.txt'\n",
        "raw_text = load_doc(in_filename)\n",
        "lines = raw_text.split('\\n')"
      ],
      "metadata": {
        "id": "QO2VYj_HVX3N"
      },
      "execution_count": 70,
      "outputs": []
    },
    {
      "cell_type": "code",
      "source": [
        "#encode sequences\n",
        "\n",
        "\"\"\" each unique character will be assigned a specific integer value\n",
        "and each sequence of characters will be encoded as a sequence of integers\"\"\"\n",
        "\n",
        "chars = sorted(list(set(raw_text)))\n",
        "mapping = dict((c, i) for i, c in enumerate(chars))\n",
        "\n"
      ],
      "metadata": {
        "id": "SsmRLmrCV6L1"
      },
      "execution_count": 71,
      "outputs": []
    },
    {
      "cell_type": "code",
      "source": [
        "#process each sequence of characters one at a time and use the dictionary\n",
        "#mapping to look up the integer value for each character\n",
        "\n",
        "sequences = list()\n",
        "for line in lines:\n",
        "\n",
        "  #integer encode line\n",
        "  encoded_seq = [mapping [char] for char in line]\n",
        "\n",
        "  #store\n",
        "  sequences.append(encoded_seq)"
      ],
      "metadata": {
        "id": "4eYykyssW3Pr"
      },
      "execution_count": 72,
      "outputs": []
    },
    {
      "cell_type": "code",
      "source": [
        "#vocabulary size\n",
        "\n",
        "vocab_size = len(mapping)\n",
        "print('Vocabulary Size: %d' % vocab_size)"
      ],
      "metadata": {
        "colab": {
          "base_uri": "https://localhost:8080/"
        },
        "id": "UhqOcm-pYSOb",
        "outputId": "291ff83f-9ec1-4b1a-ad9b-2b09b8c2a7f5"
      },
      "execution_count": 73,
      "outputs": [
        {
          "output_type": "stream",
          "name": "stdout",
          "text": [
            "Vocabulary Size: 38\n"
          ]
        }
      ]
    },
    {
      "cell_type": "code",
      "source": [
        "#split inputs and output\n",
        "\n",
        "sequences = array(sequences)\n",
        "x, y = sequences [:, : -1], sequences [:, -1]\n",
        ""
      ],
      "metadata": {
        "id": "_7aabiq7YpwP"
      },
      "execution_count": 74,
      "outputs": []
    },
    {
      "cell_type": "code",
      "source": [
        "#one-hot encode each character.\n",
        "\n",
        "\"\"\"each character becomes a vector as long as the vocabulary with a 1\n",
        "marked for the specific character\"\"\"\n",
        "\n",
        "sequences = [to_categorical(x, num_classes = vocab_size) for x in x]\n",
        "x = array(sequences)\n",
        "y = to_categorical(y, num_classes = vocab_size)\n",
        "\n"
      ],
      "metadata": {
        "id": "2tY_XPpDZIm4"
      },
      "execution_count": 75,
      "outputs": []
    },
    {
      "cell_type": "code",
      "source": [
        "#FIT THE MODEL\n",
        "\n",
        "\"\"\" i define the model with an input layer that takes sequences that have 10 time steps\n",
        "and 38 features for the one hot encoded input features.\n",
        "i use the 2nd and 3rd dimensions on the input data.\"\"\"\n",
        "\n",
        "#define the model\n",
        "\n",
        "\"\"\" MODEL HAS:\n",
        "single LSTM hidden layer with 75 memory cells chosen with trial and error.\n",
        "fully connected output layer that outputs one vector with a probability distribution across all characters in the vocabulary.\n",
        "a softmax activation function is used on the output layer to ensure the output has the properties of a probability distribution.\"\"\"\n",
        "\n",
        "from keras.models import Sequential\n",
        "from keras.layers import Dense\n",
        "from keras.layers import LSTM\n",
        "\n",
        "model = Sequential()\n",
        "model.add(LSTM(75, input_shape = (x.shape[1], x.shape[2])))\n",
        "model.add(Dense(vocab_size, activation = 'softmax'))\n",
        "\n",
        "\n",
        "\n"
      ],
      "metadata": {
        "id": "NE86D6DnaKqo"
      },
      "execution_count": 76,
      "outputs": []
    },
    {
      "cell_type": "code",
      "source": [
        "#compile model\n",
        "\n",
        "model.compile(loss = 'categorical_crossentropy', optimizer = 'adam',\n",
        "              metrics = ['accuracy'])"
      ],
      "metadata": {
        "id": "2Cc-R_eNdAue"
      },
      "execution_count": 77,
      "outputs": []
    },
    {
      "cell_type": "code",
      "source": [
        "#summarize the defined model\n",
        "\n",
        "model.summary()\n",
        "plot_model(model, to_file='model.png', show_shapes=True)\n"
      ],
      "metadata": {
        "colab": {
          "base_uri": "https://localhost:8080/",
          "height": 805
        },
        "id": "eGpJu42Ndb2l",
        "outputId": "6226dbce-b453-40aa-bbb5-a017909ad103"
      },
      "execution_count": 78,
      "outputs": [
        {
          "output_type": "display_data",
          "data": {
            "text/plain": [
              "\u001b[1mModel: \"sequential_3\"\u001b[0m\n"
            ],
            "text/html": [
              "<pre style=\"white-space:pre;overflow-x:auto;line-height:normal;font-family:Menlo,'DejaVu Sans Mono',consolas,'Courier New',monospace\"><span style=\"font-weight: bold\">Model: \"sequential_3\"</span>\n",
              "</pre>\n"
            ]
          },
          "metadata": {}
        },
        {
          "output_type": "display_data",
          "data": {
            "text/plain": [
              "┏━━━━━━━━━━━━━━━━━━━━━━━━━━━━━━━━━━━━━━┳━━━━━━━━━━━━━━━━━━━━━━━━━━━━━┳━━━━━━━━━━━━━━━━━┓\n",
              "┃\u001b[1m \u001b[0m\u001b[1mLayer (type)                        \u001b[0m\u001b[1m \u001b[0m┃\u001b[1m \u001b[0m\u001b[1mOutput Shape               \u001b[0m\u001b[1m \u001b[0m┃\u001b[1m \u001b[0m\u001b[1m        Param #\u001b[0m\u001b[1m \u001b[0m┃\n",
              "┡━━━━━━━━━━━━━━━━━━━━━━━━━━━━━━━━━━━━━━╇━━━━━━━━━━━━━━━━━━━━━━━━━━━━━╇━━━━━━━━━━━━━━━━━┩\n",
              "│ lstm_3 (\u001b[38;5;33mLSTM\u001b[0m)                        │ (\u001b[38;5;45mNone\u001b[0m, \u001b[38;5;34m75\u001b[0m)                  │          \u001b[38;5;34m34,200\u001b[0m │\n",
              "├──────────────────────────────────────┼─────────────────────────────┼─────────────────┤\n",
              "│ dense_3 (\u001b[38;5;33mDense\u001b[0m)                      │ (\u001b[38;5;45mNone\u001b[0m, \u001b[38;5;34m38\u001b[0m)                  │           \u001b[38;5;34m2,888\u001b[0m │\n",
              "└──────────────────────────────────────┴─────────────────────────────┴─────────────────┘\n"
            ],
            "text/html": [
              "<pre style=\"white-space:pre;overflow-x:auto;line-height:normal;font-family:Menlo,'DejaVu Sans Mono',consolas,'Courier New',monospace\">┏━━━━━━━━━━━━━━━━━━━━━━━━━━━━━━━━━━━━━━┳━━━━━━━━━━━━━━━━━━━━━━━━━━━━━┳━━━━━━━━━━━━━━━━━┓\n",
              "┃<span style=\"font-weight: bold\"> Layer (type)                         </span>┃<span style=\"font-weight: bold\"> Output Shape                </span>┃<span style=\"font-weight: bold\">         Param # </span>┃\n",
              "┡━━━━━━━━━━━━━━━━━━━━━━━━━━━━━━━━━━━━━━╇━━━━━━━━━━━━━━━━━━━━━━━━━━━━━╇━━━━━━━━━━━━━━━━━┩\n",
              "│ lstm_3 (<span style=\"color: #0087ff; text-decoration-color: #0087ff\">LSTM</span>)                        │ (<span style=\"color: #00d7ff; text-decoration-color: #00d7ff\">None</span>, <span style=\"color: #00af00; text-decoration-color: #00af00\">75</span>)                  │          <span style=\"color: #00af00; text-decoration-color: #00af00\">34,200</span> │\n",
              "├──────────────────────────────────────┼─────────────────────────────┼─────────────────┤\n",
              "│ dense_3 (<span style=\"color: #0087ff; text-decoration-color: #0087ff\">Dense</span>)                      │ (<span style=\"color: #00d7ff; text-decoration-color: #00d7ff\">None</span>, <span style=\"color: #00af00; text-decoration-color: #00af00\">38</span>)                  │           <span style=\"color: #00af00; text-decoration-color: #00af00\">2,888</span> │\n",
              "└──────────────────────────────────────┴─────────────────────────────┴─────────────────┘\n",
              "</pre>\n"
            ]
          },
          "metadata": {}
        },
        {
          "output_type": "display_data",
          "data": {
            "text/plain": [
              "\u001b[1m Total params: \u001b[0m\u001b[38;5;34m37,088\u001b[0m (144.88 KB)\n"
            ],
            "text/html": [
              "<pre style=\"white-space:pre;overflow-x:auto;line-height:normal;font-family:Menlo,'DejaVu Sans Mono',consolas,'Courier New',monospace\"><span style=\"font-weight: bold\"> Total params: </span><span style=\"color: #00af00; text-decoration-color: #00af00\">37,088</span> (144.88 KB)\n",
              "</pre>\n"
            ]
          },
          "metadata": {}
        },
        {
          "output_type": "display_data",
          "data": {
            "text/plain": [
              "\u001b[1m Trainable params: \u001b[0m\u001b[38;5;34m37,088\u001b[0m (144.88 KB)\n"
            ],
            "text/html": [
              "<pre style=\"white-space:pre;overflow-x:auto;line-height:normal;font-family:Menlo,'DejaVu Sans Mono',consolas,'Courier New',monospace\"><span style=\"font-weight: bold\"> Trainable params: </span><span style=\"color: #00af00; text-decoration-color: #00af00\">37,088</span> (144.88 KB)\n",
              "</pre>\n"
            ]
          },
          "metadata": {}
        },
        {
          "output_type": "display_data",
          "data": {
            "text/plain": [
              "\u001b[1m Non-trainable params: \u001b[0m\u001b[38;5;34m0\u001b[0m (0.00 B)\n"
            ],
            "text/html": [
              "<pre style=\"white-space:pre;overflow-x:auto;line-height:normal;font-family:Menlo,'DejaVu Sans Mono',consolas,'Courier New',monospace\"><span style=\"font-weight: bold\"> Non-trainable params: </span><span style=\"color: #00af00; text-decoration-color: #00af00\">0</span> (0.00 B)\n",
              "</pre>\n"
            ]
          },
          "metadata": {}
        },
        {
          "output_type": "execute_result",
          "data": {
            "image/png": "[encoded data removed]",
            "text/plain": [
              "<IPython.core.display.Image object>"
            ]
          },
          "metadata": {},
          "execution_count": 78
        }
      ]
    },
    {
      "cell_type": "code",
      "source": [
        "#save the model, including its weights and topology information to a file\n",
        "\n",
        "model.save('model.h5')"
      ],
      "metadata": {
        "colab": {
          "base_uri": "https://localhost:8080/"
        },
        "id": "FCZLR1FGePBF",
        "outputId": "66241578-c807-4713-be74-2840a8f21448"
      },
      "execution_count": 79,
      "outputs": [
        {
          "output_type": "stream",
          "name": "stderr",
          "text": [
            "WARNING:absl:You are saving your model as an HDF5 file via `model.save()` or `keras.saving.save_model(model)`. This file format is considered legacy. We recommend using instead the native Keras format, e.g. `model.save('my_model.keras')` or `keras.saving.save_model(model, 'my_model.keras')`. \n"
          ]
        }
      ]
    },
    {
      "cell_type": "code",
      "source": [
        "#save the mapping from characters to integers that will be needed to encode any\n",
        "#input when using the model and decode any output from the model\n",
        "\n",
        "dump(mapping, open('mapping.pkl', 'wb'))"
      ],
      "metadata": {
        "id": "dY2EDkV3el78"
      },
      "execution_count": 80,
      "outputs": []
    },
    {
      "cell_type": "code",
      "source": [
        "#generate text\n",
        "\n",
        "\"\"\" use the language model to generate new sequences of text that have\n",
        "the same statistical properties\"\"\"\n",
        "\n",
        "#load the saved model\n",
        "\n",
        "model = load_model('model.h5')\n",
        "\n",
        "#load the pickled dictionary for mapping characters to integers\n",
        "\n",
        "mapping = load(open('mapping.pkl','rb'))"
      ],
      "metadata": {
        "colab": {
          "base_uri": "https://localhost:8080/"
        },
        "id": "HeY9Sy7jffGr",
        "outputId": "2aec3631-badf-4408-8f56-2339faab64b7"
      },
      "execution_count": 81,
      "outputs": [
        {
          "output_type": "stream",
          "name": "stderr",
          "text": [
            "WARNING:absl:Compiled the loaded model, but the compiled metrics have yet to be built. `model.compile_metrics` will be empty until you train or evaluate the model.\n"
          ]
        }
      ]
    },
    {
      "cell_type": "code",
      "source": [
        "#generate characters\n",
        "\n",
        "\"\"\"we must provide sequences of 10 characters as input to the model in order to\n",
        "start the generation process.\n",
        "a given input sequence will need to be prepared in the same way as preparing the\n",
        "training data for the model\"\"\"\n",
        "\n",
        "# Define the input text string\n",
        "in_text = \"your input text\"\n",
        "#integer encode the sequence of characters using the loaded mapping\n",
        "\n",
        "encoded = [mapping[char] for char in in_text]\n",
        "\n",
        "#one hot encode the integers then reshape the sequence to be 3-dimensional\n",
        "#as we only have one sequence and LSTMs require an input to be 3D that is;\n",
        "#samples, time steps and features\n",
        "\n",
        "encoded = to_categorical(encoded, num_classes = len(mapping))\n",
        "encoded = encoded.reshape(1, encoded.shape[0], encoded.shape[1])"
      ],
      "metadata": {
        "id": "rfC-o-2lgt27"
      },
      "execution_count": 83,
      "outputs": []
    },
    {
      "cell_type": "code",
      "source": [
        "#use the model to predict the next character in the sequence\n",
        "yhat = model.predict(encoded, verbose = 0)\n",
        "\n",
        "# Find the class with the highest probability\n",
        "yhat = np.argmax(yhat)\n",
        "\n",
        "#decode this integer by looking up the mapping to see the character to which it maps\n",
        "\n",
        "out_char = ' '\n",
        "for char, index in mapping.items():\n",
        "  if index == yhat:\n",
        "    out_char = char\n",
        "    break"
      ],
      "metadata": {
        "id": "lJvlLbe3jEgw"
      },
      "execution_count": 98,
      "outputs": []
    },
    {
      "cell_type": "code",
      "source": [
        "#generate a sequence of characters with the language model\n",
        "\n",
        "def generate_seq(model, mapping, seq_length, seed_text, n_chars):\n",
        "  in_text = seed_text"
      ],
      "metadata": {
        "id": "zNV-gk8IkXXh"
      },
      "execution_count": 100,
      "outputs": []
    },
    {
      "cell_type": "code",
      "source": [
        "#generate a fixed number of characters\n",
        "\n",
        "for _ in range(n_chars):\n",
        "\n",
        "  #encode the characters as integers\n",
        "\n",
        "  encoded = [mapping[char] for char in in_text]\n",
        "\n",
        "  #truncate sequences to a fixed length\n",
        "\n",
        "  encoded = pad_sequences([encoded], maxlen = seq_length, truncating = 'pre')\n",
        "\n",
        "  #one hot encode integers\n",
        "\n",
        "  encoded = to_categorical(encoded, num_classes = len(mapping))\n",
        "  encoded = encoded.reshape(1, encoded.shape[0], encoded.shape[1])\n",
        "\n",
        "  #predict character\n",
        "\n",
        "  yhat = model.predict(encoded, verbose = 0)\n",
        "\n",
        "  #reverse map integer to character\n",
        "\n",
        "  out_char = ' '\n",
        "  for char, index in mapping.items():\n",
        "    if index == yhat:\n",
        "      out_char = char\n",
        "      break\n",
        "\n",
        "#append to input\n",
        "in_text += char\n",
        "return in_text"
      ],
      "metadata": {
        "colab": {
          "base_uri": "https://localhost:8080/",
          "height": 222
        },
        "id": "trIGZCgqv07L",
        "outputId": "a2c28d7a-ba15-4618-f74d-847b01321386"
      },
      "execution_count": 101,
      "outputs": [
        {
          "output_type": "error",
          "ename": "ValueError",
          "evalue": "cannot reshape array of size 140 into shape (1,1,10)",
          "traceback": [
            "\u001b[0;31m---------------------------------------------------------------------------\u001b[0m",
            "\u001b[0;31mValueError\u001b[0m                                Traceback (most recent call last)",
            "\u001b[0;32m<ipython-input-101-5f785018650c>\u001b[0m in \u001b[0;36m<cell line: 3>\u001b[0;34m()\u001b[0m\n\u001b[1;32m     14\u001b[0m \u001b[0;34m\u001b[0m\u001b[0m\n\u001b[1;32m     15\u001b[0m   \u001b[0mencoded\u001b[0m \u001b[0;34m=\u001b[0m \u001b[0mto_categorical\u001b[0m\u001b[0;34m(\u001b[0m\u001b[0mencoded\u001b[0m\u001b[0;34m,\u001b[0m \u001b[0mnum_classes\u001b[0m \u001b[0;34m=\u001b[0m \u001b[0mlen\u001b[0m\u001b[0;34m(\u001b[0m\u001b[0mmapping\u001b[0m\u001b[0;34m)\u001b[0m\u001b[0;34m)\u001b[0m\u001b[0;34m\u001b[0m\u001b[0;34m\u001b[0m\u001b[0m\n\u001b[0;32m---> 16\u001b[0;31m   \u001b[0mencoded\u001b[0m \u001b[0;34m=\u001b[0m \u001b[0mencoded\u001b[0m\u001b[0;34m.\u001b[0m\u001b[0mreshape\u001b[0m\u001b[0;34m(\u001b[0m\u001b[0;36m1\u001b[0m\u001b[0;34m,\u001b[0m \u001b[0mencoded\u001b[0m\u001b[0;34m.\u001b[0m\u001b[0mshape\u001b[0m\u001b[0;34m[\u001b[0m\u001b[0;36m0\u001b[0m\u001b[0;34m]\u001b[0m\u001b[0;34m,\u001b[0m \u001b[0mencoded\u001b[0m\u001b[0;34m.\u001b[0m\u001b[0mshape\u001b[0m\u001b[0;34m[\u001b[0m\u001b[0;36m1\u001b[0m\u001b[0;34m]\u001b[0m\u001b[0;34m)\u001b[0m\u001b[0;34m\u001b[0m\u001b[0;34m\u001b[0m\u001b[0m\n\u001b[0m\u001b[1;32m     17\u001b[0m \u001b[0;34m\u001b[0m\u001b[0m\n\u001b[1;32m     18\u001b[0m   \u001b[0;31m#predict character\u001b[0m\u001b[0;34m\u001b[0m\u001b[0;34m\u001b[0m\u001b[0m\n",
            "\u001b[0;31mValueError\u001b[0m: cannot reshape array of size 140 into shape (1,1,10)"
          ]
        }
      ]
    }
  ]
}